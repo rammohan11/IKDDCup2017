{
 "cells": [
  {
   "cell_type": "code",
   "execution_count": 1,
   "metadata": {
    "collapsed": false
   },
   "outputs": [
    {
     "name": "stdout",
     "output_type": "stream",
     "text": [
      "hi\n"
     ]
    }
   ],
   "source": [
    "print 'hi'"
   ]
  },
  {
   "cell_type": "code",
   "execution_count": 3,
   "metadata": {
    "collapsed": true
   },
   "outputs": [],
   "source": [
    "import pandas as pd\n",
    "df1 = pd.DataFrame.from_csv('survey_response12 words - Sheet1.tsv', sep='\\t', header=0, index_col=False)"
   ]
  },
  {
   "cell_type": "code",
   "execution_count": 4,
   "metadata": {
    "collapsed": false
   },
   "outputs": [
    {
     "data": {
      "text/html": [
       "<div>\n",
       "<table border=\"1\" class=\"dataframe\">\n",
       "  <thead>\n",
       "    <tr style=\"text-align: right;\">\n",
       "      <th></th>\n",
       "      <th>Timestamp</th>\n",
       "      <th>Score</th>\n",
       "      <th>Location</th>\n",
       "      <th>Age</th>\n",
       "      <th>Native language</th>\n",
       "      <th>Your Proficiency with Hindi</th>\n",
       "      <th>Qualification</th>\n",
       "      <th>job</th>\n",
       "      <th>gift</th>\n",
       "      <th>share</th>\n",
       "      <th>film</th>\n",
       "      <th>review</th>\n",
       "      <th>interview</th>\n",
       "      <th>star</th>\n",
       "      <th>month</th>\n",
       "      <th>status</th>\n",
       "      <th>development</th>\n",
       "      <th>petrol</th>\n",
       "      <th>well</th>\n",
       "    </tr>\n",
       "  </thead>\n",
       "  <tbody>\n",
       "    <tr>\n",
       "      <th>0</th>\n",
       "      <td>14/07/2016 13:44:52</td>\n",
       "      <td>NaN</td>\n",
       "      <td>Kolkata</td>\n",
       "      <td>20</td>\n",
       "      <td>Hindi</td>\n",
       "      <td>Expert</td>\n",
       "      <td>Higher Secondary</td>\n",
       "      <td>2</td>\n",
       "      <td>1</td>\n",
       "      <td>2</td>\n",
       "      <td>1</td>\n",
       "      <td>1</td>\n",
       "      <td>1</td>\n",
       "      <td>1</td>\n",
       "      <td>2</td>\n",
       "      <td>1</td>\n",
       "      <td>2</td>\n",
       "      <td>1</td>\n",
       "      <td>2</td>\n",
       "    </tr>\n",
       "    <tr>\n",
       "      <th>1</th>\n",
       "      <td>12/07/2016 12:33:25</td>\n",
       "      <td>NaN</td>\n",
       "      <td>Delhi</td>\n",
       "      <td>21</td>\n",
       "      <td>Hindi</td>\n",
       "      <td>Comfortable</td>\n",
       "      <td>Graduate</td>\n",
       "      <td>2</td>\n",
       "      <td>1</td>\n",
       "      <td>2</td>\n",
       "      <td>1</td>\n",
       "      <td>2</td>\n",
       "      <td>2</td>\n",
       "      <td>1</td>\n",
       "      <td>2</td>\n",
       "      <td>1</td>\n",
       "      <td>2</td>\n",
       "      <td>1</td>\n",
       "      <td>2</td>\n",
       "    </tr>\n",
       "    <tr>\n",
       "      <th>2</th>\n",
       "      <td>18/07/2016 02:09:27</td>\n",
       "      <td>NaN</td>\n",
       "      <td>Jaipur</td>\n",
       "      <td>22</td>\n",
       "      <td>Hindi</td>\n",
       "      <td>Comfortable</td>\n",
       "      <td>Graduate</td>\n",
       "      <td>1</td>\n",
       "      <td>1</td>\n",
       "      <td>2</td>\n",
       "      <td>1</td>\n",
       "      <td>1</td>\n",
       "      <td>1</td>\n",
       "      <td>1</td>\n",
       "      <td>2</td>\n",
       "      <td>1</td>\n",
       "      <td>2</td>\n",
       "      <td>1</td>\n",
       "      <td>2</td>\n",
       "    </tr>\n",
       "    <tr>\n",
       "      <th>3</th>\n",
       "      <td>15/07/2016 22:07:06</td>\n",
       "      <td>NaN</td>\n",
       "      <td>berhampur</td>\n",
       "      <td>22</td>\n",
       "      <td>Hindi</td>\n",
       "      <td>Expert</td>\n",
       "      <td>Graduate</td>\n",
       "      <td>2</td>\n",
       "      <td>2</td>\n",
       "      <td>None</td>\n",
       "      <td>2</td>\n",
       "      <td>2</td>\n",
       "      <td>2</td>\n",
       "      <td>2</td>\n",
       "      <td>2</td>\n",
       "      <td>2</td>\n",
       "      <td>2</td>\n",
       "      <td>None</td>\n",
       "      <td>2</td>\n",
       "    </tr>\n",
       "    <tr>\n",
       "      <th>4</th>\n",
       "      <td>15/07/2016 22:24:34</td>\n",
       "      <td>NaN</td>\n",
       "      <td>Guwahati</td>\n",
       "      <td>22</td>\n",
       "      <td>Non Hindi</td>\n",
       "      <td>Comfortable</td>\n",
       "      <td>Post Graduate and above</td>\n",
       "      <td>None</td>\n",
       "      <td>None</td>\n",
       "      <td>2</td>\n",
       "      <td>None</td>\n",
       "      <td>2</td>\n",
       "      <td>2</td>\n",
       "      <td>2</td>\n",
       "      <td>2</td>\n",
       "      <td>None</td>\n",
       "      <td>2</td>\n",
       "      <td>1</td>\n",
       "      <td>None</td>\n",
       "    </tr>\n",
       "  </tbody>\n",
       "</table>\n",
       "</div>"
      ],
      "text/plain": [
       "             Timestamp  Score   Location  Age Native language  \\\n",
       "0  14/07/2016 13:44:52    NaN    Kolkata   20           Hindi   \n",
       "1  12/07/2016 12:33:25    NaN      Delhi   21           Hindi   \n",
       "2  18/07/2016 02:09:27    NaN     Jaipur   22           Hindi   \n",
       "3  15/07/2016 22:07:06    NaN  berhampur   22           Hindi   \n",
       "4  15/07/2016 22:24:34    NaN   Guwahati   22       Non Hindi   \n",
       "\n",
       "  Your Proficiency with Hindi            Qualification   job  gift share  \\\n",
       "0                      Expert         Higher Secondary     2     1     2   \n",
       "1                 Comfortable                 Graduate     2     1     2   \n",
       "2                 Comfortable                 Graduate     1     1     2   \n",
       "3                      Expert                 Graduate     2     2  None   \n",
       "4                 Comfortable  Post Graduate and above  None  None     2   \n",
       "\n",
       "   film review interview star month status development petrol  well  \n",
       "0     1      1         1    1     2      1           2      1     2  \n",
       "1     1      2         2    1     2      1           2      1     2  \n",
       "2     1      1         1    1     2      1           2      1     2  \n",
       "3     2      2         2    2     2      2           2   None     2  \n",
       "4  None      2         2    2     2   None           2      1  None  "
      ]
     },
     "execution_count": 4,
     "metadata": {},
     "output_type": "execute_result"
    }
   ],
   "source": [
    "df1.head()"
   ]
  },
  {
   "cell_type": "code",
   "execution_count": 33,
   "metadata": {
    "collapsed": false
   },
   "outputs": [
    {
     "data": {
      "text/plain": [
       "23"
      ]
     },
     "execution_count": 33,
     "metadata": {},
     "output_type": "execute_result"
    }
   ],
   "source": [
    "df1.groupby(keyWords[0])['job'].get_group('1').count()"
   ]
  },
  {
   "cell_type": "code",
   "execution_count": 43,
   "metadata": {
    "collapsed": false
   },
   "outputs": [
    {
     "name": "stdout",
     "output_type": "stream",
     "text": [
      "Key Error for month\n"
     ]
    }
   ],
   "source": [
    "keyWords=['job', 'gift', 'share', 'film', 'review', 'interview', 'star', 'month', 'status', 'development', 'petrol', 'well']\n",
    "\n",
    "keyToCntDict = {}\n",
    "\n",
    "for i in range(0, len(keyWords)):\n",
    "    enCount=0\n",
    "    try:\n",
    "        enCount = df1.groupby(keyWords[i])[keyWords[i]].get_group('1').count()\n",
    "    except KeyError:\n",
    "        print \"Key Error for \" + keyWords[i]\n",
    "    hiCount = df1.groupby(keyWords[i])[keyWords[i]].get_group('2').count()\n",
    "    keyToCntDict[keyWords[i]]=enCount-hiCount\n"
   ]
  },
  {
   "cell_type": "code",
   "execution_count": 47,
   "metadata": {
    "collapsed": false
   },
   "outputs": [
    {
     "data": {
      "text/plain": [
       "{'development': -31,\n",
       " 'film': 32,\n",
       " 'gift': 19,\n",
       " 'interview': 19,\n",
       " 'job': -4,\n",
       " 'month': -51,\n",
       " 'petrol': 5,\n",
       " 'review': -5,\n",
       " 'share': -25,\n",
       " 'star': 18,\n",
       " 'status': 25,\n",
       " 'well': -36}"
      ]
     },
     "execution_count": 47,
     "metadata": {},
     "output_type": "execute_result"
    }
   ],
   "source": [
    "keyToCntDict"
   ]
  },
  {
   "cell_type": "code",
   "execution_count": 58,
   "metadata": {
    "collapsed": false
   },
   "outputs": [
    {
     "name": "stdout",
     "output_type": "stream",
     "text": [
      "film 32\n",
      "status 25\n",
      "gift 19\n",
      "interview 19\n",
      "star 18\n",
      "petrol 5\n",
      "job -4\n",
      "review -5\n",
      "share -25\n",
      "development -31\n",
      "well -36\n",
      "month -51\n"
     ]
    }
   ],
   "source": [
    "for w in sorted(keyToCntDict, key=keyToCntDict.get, reverse=True):\n",
    "    print w, keyToCntDict[w]"
   ]
  },
  {
   "cell_type": "code",
   "execution_count": 10,
   "metadata": {
    "collapsed": false
   },
   "outputs": [
    {
     "name": "stdout",
     "output_type": "stream",
     "text": [
      "EnTweets:412\n",
      "HiTweets:23\n",
      "CMHTweets:7350\n",
      "NoneTweets:250972\n"
     ]
    }
   ],
   "source": [
    "cmhTweets=0\n",
    "hiTweets=0\n",
    "enTweets=0\n",
    "noneTweets=0\n",
    "\n",
    "with open('Datasheet.csv','rU') as f:\n",
    "    for x in f:\n",
    "        tuples=x.split(',')\n",
    "        enCount=0\n",
    "        hiCount=0\n",
    "        totalWordCount=0\n",
    "        for i in range(1, len(tuples)) :\n",
    "            r = tuples[i].split(':')\n",
    "            sIndex = int(r[0])\n",
    "            eIndex = int(r[1])\n",
    "            wType = str(r[2])\n",
    "            count = eIndex - sIndex +1\n",
    "            totalWordCount += count\n",
    "            if(wType == 'EN'):\n",
    "                enCount+=count\n",
    "            elif wType == 'HI' :\n",
    "                hiCount+= count\n",
    "                  \n",
    "        enDec = float(enCount)/float(totalWordCount)\n",
    "        hiDec = float(hiCount)/float(totalWordCount)\n",
    "        res='None'\n",
    "        if(enDec>.9):\n",
    "            res='EN'\n",
    "            enTweets+=1\n",
    "        elif hiDec > .9:\n",
    "            res='HI'\n",
    "            hiTweets+=1\n",
    "        elif hiDec > .5:\n",
    "            res='CMH'\n",
    "            cmhTweets+=1\n",
    "        else :\n",
    "            noneTweets+=1\n",
    "        \n",
    "\n",
    "print 'EnTweets' + ':' + str(enTweets)\n",
    "print 'HiTweets' + ':' + str(hiTweets)\n",
    "print 'CMHTweets' + ':' + str(cmhTweets)\n",
    "print 'NoneTweets' + ':' + str(noneTweets)\n",
    "\n",
    "            "
   ]
  },
  {
   "cell_type": "code",
   "execution_count": 62,
   "metadata": {
    "collapsed": false
   },
   "outputs": [
    {
     "name": "stdout",
     "output_type": "stream",
     "text": [
      "EnTweets:168577\n",
      "HiTweets:6319\n",
      "CMHTweets:13718\n",
      "NoneTweets:70143\n"
     ]
    }
   ],
   "source": [
    "cmhTweets=0\n",
    "hiTweets=0\n",
    "enTweets=0\n",
    "noneTweets=0\n",
    "idToTypeMap = {}\n",
    "with open('Datasheet.csv','r') as f:\n",
    "    for x in f:\n",
    "        tuples=x.split(',')\n",
    "        enCount=0\n",
    "        hiCount=0\n",
    "        totalWordCount=0\n",
    "        otherCount=0\n",
    "        neCount=0\n",
    "        for i in range(1, len(tuples)) :\n",
    "            r = tuples[i].split(':')\n",
    "            sIndex = int(r[0])\n",
    "            eIndex = int(r[1])\n",
    "            wType = str(r[2])\n",
    "            count = 1\n",
    "            \n",
    "            if(wType == 'EN'):\n",
    "                enCount+=count\n",
    "            elif wType == 'HI' :\n",
    "                hiCount+= count\n",
    "            elif wType == 'OTHER' :\n",
    "                otherCount+=count\n",
    "            elif wType == 'NE' :\n",
    "                neCount+=count\n",
    "        \n",
    "        totalWordCount=enCount+hiCount\n",
    "            \n",
    "        enDec = float(enCount)/float(totalWordCount)\n",
    "        hiDec = float(hiCount)/float(totalWordCount)\n",
    "        res='None'\n",
    "        if(enDec>.9):\n",
    "            res='EN'\n",
    "            enTweets+=1\n",
    "        elif hiDec > .9:\n",
    "            res='HI'\n",
    "            hiTweets+=1\n",
    "        elif hiDec > .5:\n",
    "            res='CMH'\n",
    "            cmhTweets+=1\n",
    "        else :\n",
    "            noneTweets+=1\n",
    "        \n",
    "        idToTypeMap[tuples[0]]= res\n",
    "        \n",
    "\n",
    "print 'EnTweets' + ':' + str(enTweets)\n",
    "print 'HiTweets' + ':' + str(hiTweets)\n",
    "print 'CMHTweets' + ':' + str(cmhTweets)\n",
    "print 'NoneTweets' + ':' + str(noneTweets)\n"
   ]
  },
  {
   "cell_type": "code",
   "execution_count": 63,
   "metadata": {
    "collapsed": false
   },
   "outputs": [],
   "source": [
    "keyWords=['job', 'gift', 'share', 'film', 'review', 'interview', 'star', 'month', 'status', 'development', 'petrol', 'well']\n",
    "\n",
    "keyCntDict = {}\n",
    "stopVal=False\n",
    "with open('data.csv','r') as f:\n",
    "    for x in f:\n",
    "        tuples=x.split(',')\n",
    "        enCount=0\n",
    "        hiCount=0\n",
    "        totalWordCount=0\n",
    "        otherCount=0\n",
    "        neCount=0\n",
    "        words = tuples[2].replace(\"\\\"\", \"\").split(\" \")\n",
    "        \n",
    "        for i in range(0, len(words)) :\n",
    "            wordVal = words[i].lower()\n",
    "            if wordVal in keyWords : \n",
    "                if wordVal not in keyCntDict.keys():\n",
    "                    val = {'u_hi':0, 'u_cmh':0, 'u_en':0}\n",
    "                    keyCntDict[wordVal]=val\n",
    "               \n",
    "                if idToTypeMap[tuples[0]] == 'EN' :\n",
    "                    keyCntDict[wordVal]['u_en']+=1\n",
    "                elif idToTypeMap[tuples[0]] == 'HI' :\n",
    "                    keyCntDict[wordVal]['u_hi']+=1\n",
    "                elif idToTypeMap[tuples[0]] == 'CMH' :\n",
    "                    keyCntDict[wordVal]['u_cmh']+=1\n",
    "        \n",
    "        "
   ]
  },
  {
   "cell_type": "code",
   "execution_count": 27,
   "metadata": {
    "collapsed": false
   },
   "outputs": [
    {
     "data": {
      "text/plain": [
       "{'development': {'u_cmh': 3, 'u_en': 182, 'u_hi': 0},\n",
       " 'film': {'u_cmh': 47, 'u_en': 785, 'u_hi': 16},\n",
       " 'gift': {'u_cmh': 14, 'u_en': 227, 'u_hi': 5},\n",
       " 'interview': {'u_cmh': 13, 'u_en': 242, 'u_hi': 0},\n",
       " 'job': {'u_cmh': 6, 'u_en': 457, 'u_hi': 2},\n",
       " 'month': {'u_cmh': 3, 'u_en': 149, 'u_hi': 0},\n",
       " 'petrol': {'u_cmh': 26, 'u_en': 14, 'u_hi': 5},\n",
       " 'review': {'u_cmh': 31, 'u_en': 800, 'u_hi': 12},\n",
       " 'share': {'u_cmh': 7, 'u_en': 347, 'u_hi': 1},\n",
       " 'star': {'u_cmh': 33, 'u_en': 435, 'u_hi': 3},\n",
       " 'status': {'u_cmh': 6, 'u_en': 92, 'u_hi': 0},\n",
       " 'well': {'u_cmh': 42, 'u_en': 2882, 'u_hi': 1}}"
      ]
     },
     "execution_count": 27,
     "metadata": {},
     "output_type": "execute_result"
    }
   ],
   "source": [
    "stmt = \"Job found after Interview\"\n",
    "keyCntDict\n"
   ]
  },
  {
   "cell_type": "code",
   "execution_count": 64,
   "metadata": {
    "collapsed": false
   },
   "outputs": [
    {
     "data": {
      "text/plain": [
       "{'development': 0.016483516483516484,\n",
       " 'film': 0.08025477707006369,\n",
       " 'gift': 0.08370044052863436,\n",
       " 'interview': 0.05371900826446281,\n",
       " 'job': 0.0175054704595186,\n",
       " 'month': 0.020134228187919462,\n",
       " 'petrol': 2.2142857142857144,\n",
       " 'review': 0.05375,\n",
       " 'share': 0.023054755043227664,\n",
       " 'star': 0.08275862068965517,\n",
       " 'status': 0.06521739130434782,\n",
       " 'well': 0.014920194309507287}"
      ]
     },
     "execution_count": 64,
     "metadata": {},
     "output_type": "execute_result"
    }
   ],
   "source": [
    "keyToTwSt={}\n",
    "\n",
    "for key, val in keyCntDict.iteritems():\n",
    "    twVal = float(val['u_hi']+val['u_cmh'])/float(val['u_en'])\n",
    "    keyToTwSt[key]=twVal\n",
    "    \n",
    "\n",
    "keyToTwSt"
   ]
  },
  {
   "cell_type": "code",
   "execution_count": 65,
   "metadata": {
    "collapsed": false
   },
   "outputs": [
    {
     "name": "stdout",
     "output_type": "stream",
     "text": [
      "petrol 2.21428571429\n",
      "gift 0.0837004405286\n",
      "star 0.0827586206897\n",
      "film 0.0802547770701\n",
      "status 0.0652173913043\n",
      "review 0.05375\n",
      "interview 0.0537190082645\n",
      "share 0.0230547550432\n",
      "month 0.0201342281879\n",
      "job 0.0175054704595\n",
      "development 0.0164835164835\n",
      "well 0.0149201943095\n"
     ]
    }
   ],
   "source": [
    "for w in sorted(keyToTwSt, key=keyToTwSt.get, reverse=True):\n",
    "    print w, keyToTwSt[w]"
   ]
  },
  {
   "cell_type": "code",
   "execution_count": 66,
   "metadata": {
    "collapsed": false,
    "scrolled": true
   },
   "outputs": [
    {
     "name": "stdout",
     "output_type": "stream",
     "text": [
      "film 32\n",
      "status 25\n",
      "gift 19\n",
      "interview 19\n",
      "star 18\n",
      "petrol 5\n",
      "job -4\n",
      "review -5\n",
      "share -25\n",
      "development -31\n",
      "well -36\n",
      "month -51\n"
     ]
    }
   ],
   "source": [
    "for w in sorted(keyToCntDict, key=keyToCntDict.get, reverse=True):\n",
    "    print w, keyToCntDict[w]"
   ]
  },
  {
   "cell_type": "code",
   "execution_count": 9,
   "metadata": {
    "collapsed": false
   },
   "outputs": [
    {
     "data": {
      "text/plain": [
       "SpearmanrResult(correlation=0.42732114568639123, pvalue=0.16587727319738638)"
      ]
     },
     "execution_count": 9,
     "metadata": {},
     "output_type": "execute_result"
    }
   ],
   "source": [
    "import scipy.stats\n",
    "x=[7,3,9,1,8,4,5,12,2,10,6,11]\n",
    "y=[10,2,8,3,6,7,4,9,5,11,1,2]\n",
    "\n",
    "scipy.stats.spearmanr(x,y)"
   ]
  },
  {
   "cell_type": "code",
   "execution_count": 9,
   "metadata": {
    "collapsed": false
   },
   "outputs": [
    {
     "name": "stdout",
     "output_type": "stream",
     "text": [
      "(0.1193612024884414, 0.71176840839037459)\n"
     ]
    },
    {
     "data": {
      "text/plain": [
       "SpearmanrResult(correlation=0.69474111876427891, pvalue=0.012158444463298652)"
      ]
     },
     "execution_count": 9,
     "metadata": {},
     "output_type": "execute_result"
    }
   ],
   "source": [
    "import scipy.stats\n",
    "import numpy as np\n",
    "\n",
    "x=np.array([-4,19,-25,32,-5,19,18,-51,32,-31,5,-36])\n",
    "y=np.array([.0175,.0837,.0231,.0803,.0538,.0537,.0828,.0201,.0652,.0165,2.2143,.0149])\n",
    "\n",
    "print scipy.stats.pearsonr(x,y)\n",
    "\n",
    "scipy.stats.spearmanr(x,y)"
   ]
  },
  {
   "cell_type": "code",
   "execution_count": 14,
   "metadata": {
    "collapsed": false
   },
   "outputs": [
    {
     "name": "stdout",
     "output_type": "stream",
     "text": [
      "(0.71328671328671334, 0.0092017797776347606)\n"
     ]
    },
    {
     "data": {
      "text/plain": [
       "SpearmanrResult(correlation=0.71328671328671334, pvalue=0.0092017797776347554)"
      ]
     },
     "execution_count": 14,
     "metadata": {},
     "output_type": "execute_result"
    }
   ],
   "source": [
    "import scipy.stats\n",
    "x=[7,3,9,1,8,4,5,12,2,10,6,11]\n",
    "y=[10,4,8,3,6,7,2,9,5,11,1,12]\n",
    "\n",
    "print scipy.stats.pearsonr(x,y)\n",
    "\n",
    "scipy.stats.spearmanr(x,y)"
   ]
  },
  {
   "cell_type": "code",
   "execution_count": 13,
   "metadata": {
    "collapsed": false
   },
   "outputs": [
    {
     "name": "stdout",
     "output_type": "stream",
     "text": [
      "(0.12647510993217073, 0.69529608196634796)\n"
     ]
    },
    {
     "data": {
      "text/plain": [
       "SpearmanrResult(correlation=0.70298878337620374, pvalue=0.0107678412582263)"
      ]
     },
     "execution_count": 13,
     "metadata": {},
     "output_type": "execute_result"
    }
   ],
   "source": [
    "import scipy.stats\n",
    "import numpy as np\n",
    "\n",
    "x=np.array([-4,19,-25,32,-5,19,18,-51,32,-31,5,-36])\n",
    "y=np.array([.0191,.0784,.0216,.0865,.0519,.0446,.0888,.0191,.0571,.0233,1.778,.0146])\n",
    "\n",
    "print scipy.stats.pearsonr(x,y)\n",
    "\n",
    "scipy.stats.spearmanr(x,y)"
   ]
  },
  {
   "cell_type": "code",
   "execution_count": 26,
   "metadata": {
    "collapsed": true
   },
   "outputs": [],
   "source": [
    "\n",
    "\n",
    "def queue_get_all(q):\n",
    "    items = []\n",
    "    maxItemsToRetreive = 10\n",
    "    for numOfItemsRetrieved in range(0, maxItemsToRetreive):\n",
    "        try:\n",
    "            if numOfItemsRetrieved == maxItemsToRetreive:\n",
    "                break\n",
    "            items.append(q.get_nowait())\n",
    "        except Queue.Empty:\n",
    "            break\n",
    "    return items"
   ]
  },
  {
   "cell_type": "code",
   "execution_count": 70,
   "metadata": {
    "collapsed": true
   },
   "outputs": [],
   "source": [
    "from multiprocessing import Queue\n",
    "from Queue import Empty\n",
    "\n",
    "def queue_get_all(q):\n",
    "    items = []\n",
    "    count=0\n",
    "    while True:\n",
    "        count+=1\n",
    "        try:\n",
    "            #print \"qGetCount\" + str(count)\n",
    "            items.append(q.get_nowait())\n",
    "            #print \"itemsdequeued\" + str(count)\n",
    "        except Empty:\n",
    "            break\n",
    "    return items"
   ]
  },
  {
   "cell_type": "code",
   "execution_count": 53,
   "metadata": {
    "collapsed": true
   },
   "outputs": [],
   "source": [
    "def queue_add_all(q):\n",
    "    items = Queue()\n",
    "    deQueuedItems = queue_get_all(q)\n",
    "    \n",
    "    for numOfItemsRetrieved in range(0, len(deQueuedItems)):\n",
    "        items.put(deQueuedItems[numOfItemsRetrieved])\n",
    "        #q.put(deQueuedItems[numOfItemsRetrieved])\n",
    "    return items"
   ]
  },
  {
   "cell_type": "code",
   "execution_count": 76,
   "metadata": {
    "collapsed": false
   },
   "outputs": [
    {
     "name": "stdout",
     "output_type": "stream",
     "text": [
      "totalItems0\n",
      "starting\n",
      "totalItems12\n",
      "totalItems0\n",
      "starting\n",
      "starting\n",
      "starting\n",
      "starting\n",
      "starting\n",
      "starting\n",
      "starting\n",
      "starting\n",
      "starting\n",
      "starting\n",
      "starting\n",
      "starting\n",
      "totalItems0\n",
      "totalItems0\n",
      "totalItems0\n",
      "totalItems0\n",
      "totalItems0\n",
      "totalItems0\n",
      "totalItems0\n",
      "totalItems0\n",
      "totalItems0\n"
     ]
    }
   ],
   "source": [
    "from multiprocessing import Queue\n",
    "\n",
    "q=Queue(maxsize=0)\n",
    "q.put([])\n",
    "count=0\n",
    "totalItems=0\n",
    "while count < 12:\n",
    "    #print \"count is \"  + str(count)\n",
    "    count+=1\n",
    "    tempQ = queue_add_all(q)\n",
    "    print \"totalItems\" + str(totalItems)\n",
    "    totalItems=0\n",
    "    while tempQ.empty()==False:\n",
    "        print \"starting\"\n",
    "        lVal=tempQ.get()\n",
    "        for i in range(1,13):\n",
    "            if i not in lVal:\n",
    "                lVal.append(i)\n",
    "                q.put(lVal)\n",
    "                totalItems+=1\n",
    "\n",
    "#while !q.empty():\n",
    "    \n"
   ]
  },
  {
   "cell_type": "code",
   "execution_count": 67,
   "metadata": {
    "collapsed": false
   },
   "outputs": [
    {
     "name": "stdout",
     "output_type": "stream",
     "text": [
      "qGetCount1\n",
      "itemsdequeued1\n",
      "qGetCount2\n"
     ]
    }
   ],
   "source": [
    "q=Queue(maxsize=0)\n",
    "q.put([])\n",
    "tempQ = queue_add_all(q)"
   ]
  }
 ],
 "metadata": {
  "anaconda-cloud": {},
  "kernelspec": {
   "display_name": "Python [Root]",
   "language": "python",
   "name": "Python [Root]"
  },
  "language_info": {
   "codemirror_mode": {
    "name": "ipython",
    "version": 2
   },
   "file_extension": ".py",
   "mimetype": "text/x-python",
   "name": "python",
   "nbconvert_exporter": "python",
   "pygments_lexer": "ipython2",
   "version": "2.7.12"
  }
 },
 "nbformat": 4,
 "nbformat_minor": 0
}
